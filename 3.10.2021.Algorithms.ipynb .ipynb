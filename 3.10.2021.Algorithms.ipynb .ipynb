{
 "cells": [
  {
   "cell_type": "code",
   "execution_count": 21,
   "metadata": {},
   "outputs": [],
   "source": [
    "import numpy as np\n",
    "from scipy.special import expit as expit"
   ]
  },
  {
   "cell_type": "markdown",
   "metadata": {
    "heading_collapsed": true
   },
   "source": [
    "# Generate starting values"
   ]
  },
  {
   "cell_type": "code",
   "execution_count": 46,
   "metadata": {
    "hidden": true
   },
   "outputs": [],
   "source": [
    "lr = 0.1"
   ]
  },
  {
   "cell_type": "markdown",
   "metadata": {
    "heading_collapsed": true,
    "hidden": true
   },
   "source": [
    "## Input layer"
   ]
  },
  {
   "cell_type": "code",
   "execution_count": 60,
   "metadata": {
    "hidden": true
   },
   "outputs": [
    {
     "data": {
      "text/plain": [
       "array([[1, 1, 0, 1, 1, 1, 0, 1]])"
      ]
     },
     "execution_count": 60,
     "metadata": {},
     "output_type": "execute_result"
    }
   ],
   "source": [
    "input_layer = np.random.randint(2, size=(1,8))\n",
    "input_layer"
   ]
  },
  {
   "cell_type": "markdown",
   "metadata": {
    "heading_collapsed": true,
    "hidden": true
   },
   "source": [
    "## Weights and biases"
   ]
  },
  {
   "cell_type": "code",
   "execution_count": 61,
   "metadata": {
    "hidden": true
   },
   "outputs": [
    {
     "name": "stdout",
     "output_type": "stream",
     "text": [
      "[[0.2888758  0.14884696 0.20725632]]\n",
      "\n",
      "[[0.66379342 0.51166311 0.6992155  0.14650619 0.61919299 0.46754989\n",
      "  0.68069931 0.95591248]]\n"
     ]
    }
   ],
   "source": [
    "hidden_bias = np.random.uniform(size=(1, 3))\n",
    "output_bias = np.random.uniform(size=(1, 8))\n",
    "print(hidden_bias)\n",
    "print()\n",
    "print(output_bias)"
   ]
  },
  {
   "cell_type": "code",
   "execution_count": 35,
   "metadata": {
    "hidden": true
   },
   "outputs": [
    {
     "name": "stdout",
     "output_type": "stream",
     "text": [
      "[[-0.14596248  0.46984296 -0.20284101]\n",
      " [ 0.39457557  0.2383357  -0.30118454]\n",
      " [ 0.21543008 -0.09547247  0.44815435]\n",
      " [ 0.18373625 -0.06346439 -0.09628488]\n",
      " [ 0.10443775  0.97537049 -0.19977915]\n",
      " [-0.62747513 -0.07544811  0.45845421]\n",
      " [ 0.2087666  -1.30966475 -0.12424663]\n",
      " [-0.08091887 -0.01457799  0.7577325 ]]\n",
      "\n",
      "[[-0.57340537  0.11797267 -0.72943096  0.08953936 -0.59328186  0.11522032\n",
      "  -0.21102804 -0.25640616]\n",
      " [ 0.47972382 -0.74219694  0.11819049 -0.93784652  0.8747555  -0.10647782\n",
      "   0.07074547 -0.48855532]\n",
      " [ 0.72074364 -0.62565008  0.15053445  0.44193169  0.60381459  0.01375663\n",
      "  -0.00427383 -0.81879678]]\n"
     ]
    }
   ],
   "source": [
    "hidden_weight = np.random.randn(8, 3)*np.sqrt(2.0/8)\n",
    "output_weight = np.random.randn(3, 8)*np.sqrt(2.0/8)\n",
    "print(hidden_weight)\n",
    "print()\n",
    "print(output_weight)"
   ]
  },
  {
   "cell_type": "markdown",
   "metadata": {
    "heading_collapsed": true,
    "hidden": true
   },
   "source": [
    "## Initialize layers"
   ]
  },
  {
   "cell_type": "code",
   "execution_count": 62,
   "metadata": {
    "hidden": true
   },
   "outputs": [],
   "source": [
    "hidden_activation = np.ones(3)\n",
    "output_activation = np.ones(8)"
   ]
  },
  {
   "cell_type": "markdown",
   "metadata": {
    "heading_collapsed": true
   },
   "source": [
    "# Define activation functions"
   ]
  },
  {
   "cell_type": "code",
   "execution_count": 17,
   "metadata": {
    "hidden": true
   },
   "outputs": [],
   "source": [
    "def activation(x, dx = False):\n",
    "    '''\n",
    "    Sigmiod based activation function - as discussed by Mike Keiser in class\n",
    "    Input: value to be 'activated' can be int, float or array, boolean of if we want the derivative or not\n",
    "    Output: sigmoid activation of input, derivative if requested\n",
    "    using expit from scipy to prevent runtime overflow errors\n",
    "    '''\n",
    "    sig = expit(x + 1)\n",
    "    if dx:\n",
    "        return sig*(1-sig)\n",
    "    else:\n",
    "        return sig"
   ]
  },
  {
   "cell_type": "markdown",
   "metadata": {
    "heading_collapsed": true
   },
   "source": [
    "# Forward Prop"
   ]
  },
  {
   "cell_type": "markdown",
   "metadata": {
    "heading_collapsed": true,
    "hidden": true
   },
   "source": [
    "## Hidden Layer"
   ]
  },
  {
   "cell_type": "markdown",
   "metadata": {
    "heading_collapsed": true,
    "hidden": true
   },
   "source": [
    "### Calculate 'z' (preactivation value)"
   ]
  },
  {
   "cell_type": "code",
   "execution_count": 63,
   "metadata": {
    "hidden": true,
    "scrolled": true
   },
   "outputs": [
    {
     "data": {
      "text/plain": [
       "array([[1, 1, 0, 1, 1, 1, 0, 1]])"
      ]
     },
     "execution_count": 63,
     "metadata": {},
     "output_type": "execute_result"
    }
   ],
   "source": [
    "input_layer"
   ]
  },
  {
   "cell_type": "code",
   "execution_count": 64,
   "metadata": {
    "hidden": true
   },
   "outputs": [
    {
     "data": {
      "text/plain": [
       "array([[-0.14596248,  0.46984296, -0.20284101],\n",
       "       [ 0.39478882,  0.23582777, -0.30064179],\n",
       "       [ 0.21564332, -0.09798041,  0.4486971 ],\n",
       "       [ 0.1839495 , -0.06597233, -0.09574213],\n",
       "       [ 0.104651  ,  0.97286255, -0.1992364 ],\n",
       "       [-0.62747513, -0.07544811,  0.45845421],\n",
       "       [ 0.2087666 , -1.30966475, -0.12424663],\n",
       "       [-0.08091887, -0.01457799,  0.7577325 ]])"
      ]
     },
     "execution_count": 64,
     "metadata": {},
     "output_type": "execute_result"
    }
   ],
   "source": [
    "hidden_weight"
   ]
  },
  {
   "cell_type": "code",
   "execution_count": 65,
   "metadata": {
    "hidden": true
   },
   "outputs": [
    {
     "data": {
      "text/plain": [
       "array([[0.2888758 , 0.14884696, 0.20725632]])"
      ]
     },
     "execution_count": 65,
     "metadata": {},
     "output_type": "execute_result"
    }
   ],
   "source": [
    "hidden_bias"
   ]
  },
  {
   "cell_type": "code",
   "execution_count": 66,
   "metadata": {
    "hidden": true
   },
   "outputs": [
    {
     "data": {
      "text/plain": [
       "array([[0.11790862, 1.67138181, 0.6249817 ]])"
      ]
     },
     "execution_count": 66,
     "metadata": {},
     "output_type": "execute_result"
    }
   ],
   "source": [
    "hidden_z = np.dot(input_layer, hidden_weight) + hidden_bias\n",
    "hidden_z"
   ]
  },
  {
   "cell_type": "markdown",
   "metadata": {
    "heading_collapsed": true,
    "hidden": true
   },
   "source": [
    "### Calculate activation"
   ]
  },
  {
   "cell_type": "code",
   "execution_count": 67,
   "metadata": {
    "hidden": true
   },
   "outputs": [
    {
     "data": {
      "text/plain": [
       "array([[0.75360058, 0.93531668, 0.83548102]])"
      ]
     },
     "execution_count": 67,
     "metadata": {},
     "output_type": "execute_result"
    }
   ],
   "source": [
    "hidden_activation = activation(hidden_z, dx=False)\n",
    "hidden_activation"
   ]
  },
  {
   "cell_type": "markdown",
   "metadata": {
    "heading_collapsed": true,
    "hidden": true
   },
   "source": [
    "## Output Layer"
   ]
  },
  {
   "cell_type": "markdown",
   "metadata": {
    "heading_collapsed": true,
    "hidden": true
   },
   "source": [
    "### Calculate 'z' (preactivation value)"
   ]
  },
  {
   "cell_type": "code",
   "execution_count": 68,
   "metadata": {
    "hidden": true
   },
   "outputs": [
    {
     "data": {
      "text/plain": [
       "array([[0.75360058, 0.93531668, 0.83548102]])"
      ]
     },
     "execution_count": 68,
     "metadata": {},
     "output_type": "execute_result"
    }
   ],
   "source": [
    "hidden_activation"
   ]
  },
  {
   "cell_type": "code",
   "execution_count": 69,
   "metadata": {
    "hidden": true
   },
   "outputs": [
    {
     "data": {
      "text/plain": [
       "array([[-0.59196054,  0.10018885, -0.72569459,  0.07080871, -0.61067354,\n",
       "         0.09612946, -0.20848902, -0.25395206],\n",
       "       [ 0.46978088, -0.75172655,  0.12019265, -0.9478835 ,  0.86543602,\n",
       "        -0.11670782,  0.07210603, -0.48724027],\n",
       "       [ 0.70269662, -0.64294688,  0.15416849,  0.423714  ,  0.58689919,\n",
       "        -0.00481141, -0.00180434, -0.81640988]])"
      ]
     },
     "execution_count": 69,
     "metadata": {},
     "output_type": "execute_result"
    }
   ],
   "source": [
    "output_weight"
   ]
  },
  {
   "cell_type": "code",
   "execution_count": 70,
   "metadata": {
    "hidden": true
   },
   "outputs": [
    {
     "data": {
      "text/plain": [
       "array([[0.66379342, 0.51166311, 0.6992155 , 0.14650619, 0.61919299,\n",
       "        0.46754989, 0.68069931, 0.95591248]])"
      ]
     },
     "execution_count": 70,
     "metadata": {},
     "output_type": "execute_result"
    }
   ],
   "source": [
    "output_bias"
   ]
  },
  {
   "cell_type": "code",
   "execution_count": 71,
   "metadata": {
    "hidden": true
   },
   "outputs": [
    {
     "data": {
      "text/plain": [
       "array([[ 1.24417519, -0.65310681,  0.39355468, -0.33269858,  1.45878894,\n",
       "         0.4268145 ,  0.58951635, -0.37328485]])"
      ]
     },
     "execution_count": 71,
     "metadata": {},
     "output_type": "execute_result"
    }
   ],
   "source": [
    "output_z = np.dot(hidden_activation, output_weight) + output_bias\n",
    "output_z"
   ]
  },
  {
   "cell_type": "markdown",
   "metadata": {
    "heading_collapsed": true,
    "hidden": true
   },
   "source": [
    "### Calculate activation"
   ]
  },
  {
   "cell_type": "code",
   "execution_count": 72,
   "metadata": {
    "hidden": true
   },
   "outputs": [
    {
     "data": {
      "text/plain": [
       "array([[0.90414691, 0.58586398, 0.80115912, 0.66089864, 0.9212018 ,\n",
       "        0.80640449, 0.83054805, 0.65174426]])"
      ]
     },
     "execution_count": 72,
     "metadata": {},
     "output_type": "execute_result"
    }
   ],
   "source": [
    "output_activation = activation(output_z)\n",
    "output_activation"
   ]
  },
  {
   "cell_type": "markdown",
   "metadata": {},
   "source": [
    "# Error Calculation and backprop"
   ]
  },
  {
   "cell_type": "markdown",
   "metadata": {},
   "source": [
    "## Error and gradient"
   ]
  },
  {
   "cell_type": "code",
   "execution_count": 73,
   "metadata": {},
   "outputs": [
    {
     "data": {
      "text/plain": [
       "array([[ 0.09585309,  0.41413602, -0.80115912,  0.33910136,  0.0787982 ,\n",
       "         0.19359551, -0.83054805,  0.34825574]])"
      ]
     },
     "execution_count": 73,
     "metadata": {},
     "output_type": "execute_result"
    }
   ],
   "source": [
    "error = input_layer - output_activation\n",
    "error"
   ]
  },
  {
   "cell_type": "code",
   "execution_count": 74,
   "metadata": {},
   "outputs": [
    {
     "data": {
      "text/plain": [
       "array([[0.11283336, 0.14107796, 0.12162829, 0.13415602, 0.11141327,\n",
       "        0.12117158, 0.11908122, 0.13499311]])"
      ]
     },
     "execution_count": 74,
     "metadata": {},
     "output_type": "execute_result"
    }
   ],
   "source": [
    "slope_out = activation(output_activation, dx=True)\n",
    "slope_out"
   ]
  },
  {
   "cell_type": "code",
   "execution_count": 75,
   "metadata": {},
   "outputs": [
    {
     "data": {
      "text/plain": [
       "array([[0.12580975, 0.1102461 , 0.11865654]])"
      ]
     },
     "execution_count": 75,
     "metadata": {},
     "output_type": "execute_result"
    }
   ],
   "source": [
    "slope_hidden = activation(hidden_activation, dx = True)\n",
    "slope_hidden"
   ]
  },
  {
   "cell_type": "markdown",
   "metadata": {},
   "source": [
    "## Calculate weight + bias changes"
   ]
  },
  {
   "cell_type": "code",
   "execution_count": 76,
   "metadata": {},
   "outputs": [
    {
     "data": {
      "text/plain": [
       "array([[ 0.01081543,  0.05842546, -0.09744362,  0.04549249,  0.00877917,\n",
       "         0.02345827, -0.09890268,  0.04701213]])"
      ]
     },
     "execution_count": 76,
     "metadata": {},
     "output_type": "execute_result"
    }
   ],
   "source": [
    "delta_out = error * slope_out\n",
    "delta_out"
   ]
  },
  {
   "cell_type": "code",
   "execution_count": 77,
   "metadata": {},
   "outputs": [
    {
     "data": {
      "text/plain": [
       "array([[-0.00370008,  0.01775197, -0.00129583]])"
      ]
     },
     "execution_count": 77,
     "metadata": {},
     "output_type": "execute_result"
    }
   ],
   "source": [
    "delta_hidden = np.dot(delta_out,hidden_weight) * slope_hidden\n",
    "delta_hidden"
   ]
  },
  {
   "cell_type": "markdown",
   "metadata": {},
   "source": [
    "## Update weights and biases"
   ]
  },
  {
   "cell_type": "code",
   "execution_count": 78,
   "metadata": {},
   "outputs": [
    {
     "data": {
      "text/plain": [
       "array([[-0.59114549,  0.1045918 , -0.73303795,  0.07423702, -0.61001194,\n",
       "         0.09789728, -0.21594233, -0.25040922],\n",
       "       [ 0.47079246, -0.74626192,  0.11107859, -0.94362851,  0.86625715,\n",
       "        -0.11451373,  0.0628555 , -0.48284314],\n",
       "       [ 0.70360023, -0.63806554,  0.14602726,  0.42751481,  0.58763268,\n",
       "        -0.00285152, -0.01006747, -0.81248211]])"
      ]
     },
     "execution_count": 78,
     "metadata": {},
     "output_type": "execute_result"
    }
   ],
   "source": [
    "output_weight += np.dot(hidden_activation.T,delta_out) * lr\n",
    "output_weight"
   ]
  },
  {
   "cell_type": "code",
   "execution_count": 79,
   "metadata": {},
   "outputs": [
    {
     "data": {
      "text/plain": [
       "array([[1, 1, 0, 1, 1, 1, 0, 1]])"
      ]
     },
     "execution_count": 79,
     "metadata": {},
     "output_type": "execute_result"
    }
   ],
   "source": [
    "input_layer"
   ]
  },
  {
   "cell_type": "code",
   "execution_count": 80,
   "metadata": {},
   "outputs": [
    {
     "data": {
      "text/plain": [
       "array([[-0.00370008,  0.01775197, -0.00129583]])"
      ]
     },
     "execution_count": 80,
     "metadata": {},
     "output_type": "execute_result"
    }
   ],
   "source": [
    "delta_hidden"
   ]
  },
  {
   "cell_type": "code",
   "execution_count": 81,
   "metadata": {},
   "outputs": [
    {
     "data": {
      "text/plain": [
       "array([[-0.14633249,  0.47161816, -0.20297059],\n",
       "       [ 0.39441881,  0.23760296, -0.30077137],\n",
       "       [ 0.21564332, -0.09798041,  0.4486971 ],\n",
       "       [ 0.18357949, -0.06419714, -0.09587171],\n",
       "       [ 0.10428099,  0.97463774, -0.19936598],\n",
       "       [-0.62784514, -0.07367291,  0.45832463],\n",
       "       [ 0.2087666 , -1.30966475, -0.12424663],\n",
       "       [-0.08128888, -0.01280279,  0.75760292]])"
      ]
     },
     "execution_count": 81,
     "metadata": {},
     "output_type": "execute_result"
    }
   ],
   "source": [
    "hidden_weight += np.dot(input_layer.T, delta_hidden) * lr\n",
    "hidden_weight"
   ]
  },
  {
   "cell_type": "code",
   "execution_count": null,
   "metadata": {},
   "outputs": [],
   "source": []
  },
  {
   "cell_type": "code",
   "execution_count": null,
   "metadata": {},
   "outputs": [],
   "source": []
  },
  {
   "cell_type": "code",
   "execution_count": 82,
   "metadata": {},
   "outputs": [
    {
     "name": "stdout",
     "output_type": "stream",
     "text": [
      "[[0.66487496 0.51750566 0.68947114 0.15105544 0.62007091 0.46989572\n",
      "  0.67080904 0.96061369]]\n",
      "\n",
      "[[0.28850579 0.15062215 0.20712673]]\n"
     ]
    }
   ],
   "source": [
    "output_bias += np.sum(delta_out, axis=0, keepdims=True) * lr\n",
    "hidden_bias += np.sum(delta_hidden, axis=0, keepdims=True) * lr\n",
    "print(output_bias)\n",
    "print()\n",
    "print(hidden_bias)"
   ]
  },
  {
   "cell_type": "code",
   "execution_count": null,
   "metadata": {},
   "outputs": [],
   "source": []
  }
 ],
 "metadata": {
  "kernelspec": {
   "display_name": "Python 3",
   "language": "python",
   "name": "python3"
  },
  "language_info": {
   "codemirror_mode": {
    "name": "ipython",
    "version": 3
   },
   "file_extension": ".py",
   "mimetype": "text/x-python",
   "name": "python",
   "nbconvert_exporter": "python",
   "pygments_lexer": "ipython3",
   "version": "3.8.3"
  },
  "toc": {
   "base_numbering": 1,
   "nav_menu": {},
   "number_sections": true,
   "sideBar": true,
   "skip_h1_title": false,
   "title_cell": "Table of Contents",
   "title_sidebar": "Contents",
   "toc_cell": false,
   "toc_position": {},
   "toc_section_display": true,
   "toc_window_display": false
  }
 },
 "nbformat": 4,
 "nbformat_minor": 4
}
